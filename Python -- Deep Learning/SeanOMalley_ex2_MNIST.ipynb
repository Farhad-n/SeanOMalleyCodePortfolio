{
 "cells": [
  {
   "cell_type": "markdown",
   "metadata": {},
   "source": [
    "# MNIST- handwritten digit recognition\n",
    "[The MNIST problem](http://yann.lecun.com/exdb/mnist/) is a dataset developed by Yann LeCun, Corinna Cortes and Christopher\n",
    "Burges for evaluating machine learning models on the handwritten digit classification problem.\n",
    "The dataset was constructed from a number of scanned document datasets available from the\n",
    "National Institute of Standards and Technology (NIST). This is where the name for the dataset\n",
    "comes from, as the Modified NIST or MNIST dataset.\n",
    "Images of digits were taken from a variety of scanned documents, normalized in size and\n",
    "centered. This makes it an excellent dataset for evaluating models, allowing the developer to\n",
    "focus on the machine learning with very little data cleaning or preparation required. Each\n",
    "image is a 28 × 28 pixel square (784 pixels total).\n",
    "The dataset below has 60000 images for training and 10000 for testing. Labels are the 10 digits (0-9), therefore it is a multi-class classification problem. Excellent results achieve a prediction error of less than 1%. State-of-the-art prediction\n",
    "error of approximately 0.2% can be achieved with large Convolutional Neural Networks."
   ]
  },
  {
   "cell_type": "markdown",
   "metadata": {},
   "source": [
    "## Loading Data & EDA"
   ]
  },
  {
   "cell_type": "code",
   "execution_count": 241,
   "metadata": {},
   "outputs": [],
   "source": [
    "from keras.datasets import mnist\n",
    "import matplotlib.pyplot as plt\n",
    "import numpy as np\n",
    "%matplotlib inline"
   ]
  },
  {
   "cell_type": "code",
   "execution_count": 242,
   "metadata": {},
   "outputs": [
    {
     "data": {
      "image/png": "[encoded data removed]",
      "text/plain": [
       "<Figure size 432x288 with 4 Axes>"
      ]
     },
     "metadata": {},
     "output_type": "display_data"
    }
   ],
   "source": [
    "# fix random seed for reproducibility\n",
    "seed = 123\n",
    "np.random.seed(seed)\n",
    "# load (downloaded if needed) the MNIST dataset\n",
    "(X_train, y_train), (X_test, y_test) = mnist.load_data()\n",
    "# plot 4 images as gray scale\n",
    "plt.subplot(221)\n",
    "plt.imshow(X_train[0], cmap='gray')\n",
    "plt.subplot(222)\n",
    "plt.imshow(X_train[1], cmap='gray') \n",
    "plt.subplot(223)\n",
    "plt.imshow(X_train[2], cmap='gray')\n",
    "plt.subplot(224)\n",
    "plt.imshow(X_train[3], cmap='gray')\n",
    "# show the plot\n",
    "plt.show()"
   ]
  },
  {
   "cell_type": "code",
   "execution_count": 243,
   "metadata": {},
   "outputs": [
    {
     "name": "stdout",
     "output_type": "stream",
     "text": [
      "(60000, 28, 28) (60000,) (10000, 28, 28) (10000,)\n",
      "255 0\n"
     ]
    }
   ],
   "source": [
    "print(X_train.shape, y_train.shape, X_test.shape, y_test.shape)\n",
    "print(X_train.max(), X_train.min()) # Note that the pixel value scales 0-255 "
   ]
  },
  {
   "cell_type": "markdown",
   "metadata": {},
   "source": [
    "## Baseline model using simple neural net\n",
    "MNIST problem is not terribly difficult that we may get a decent result by using simple neural nets without CNN. We can build a baseline model with a simple neural net and later compare how a CNN model does better that the baseline.\n",
    "\n",
    "A simple NN talkes 1D input, so we will change the data shape to a 1D vector: a 2D image of 28x28 pixels is reshaped (flattened) to a 1D vector of 784 pixels. Then the pixel values are normalized so that a value is between 0 and 1. Then we make labels (both y_train and y_test) to categorical- which means we make 10 columns with values 0 or 1 instead of 1 column with values 0-9.     \n"
   ]
  },
  {
   "cell_type": "code",
   "execution_count": 244,
   "metadata": {},
   "outputs": [],
   "source": [
    "from keras.models import Sequential\n",
    "from keras.layers import Dense\n",
    "from keras.layers import Dropout\n",
    "import keras.utils as np_utils\n",
    "\n",
    "# fix random seed for reproducibility\n",
    "seed = 123\n",
    "np.random.seed(seed)\n",
    "\n",
    "# load (downloaded if needed) the MNIST dataset\n",
    "(X_train, y_train), (X_test, y_test) = mnist.load_data()\n",
    "\n",
    "# flatten 28*28 images to a 784 vector for each image\n",
    "num_pixels = X_train.shape[1] * X_train.shape[2]\n",
    "X_train = X_train.reshape(X_train.shape[0], num_pixels).astype('float32')\n",
    "X_test = X_test.reshape(X_test.shape[0], num_pixels).astype('float32')\n",
    "\n",
    "# normalize inputs from 0-255 to 0-1\n",
    "X_train = X_train / 255\n",
    "X_test = X_test / 255\n",
    "\n",
    "# one hot encode outputs\n",
    "y_train = np_utils.to_categorical(y_train)\n",
    "y_test = np_utils.to_categorical(y_test)\n",
    "num_classes = y_test.shape[1]\n"
   ]
  },
  {
   "cell_type": "code",
   "execution_count": 245,
   "metadata": {},
   "outputs": [
    {
     "name": "stdout",
     "output_type": "stream",
     "text": [
      "Train on 60000 samples, validate on 10000 samples\n",
      "Epoch 1/20\n",
      " - 3s - loss: 2.1766 - acc: 0.1354 - val_loss: 2.1098 - val_acc: 0.1354\n",
      "Epoch 2/20\n",
      " - 1s - loss: 2.0554 - acc: 0.1668 - val_loss: 2.0134 - val_acc: 0.1717\n",
      "Epoch 3/20\n",
      " - 1s - loss: 1.9770 - acc: 0.2047 - val_loss: 1.9544 - val_acc: 0.2485\n",
      "Epoch 4/20\n",
      " - 1s - loss: 1.9257 - acc: 0.2390 - val_loss: 1.9122 - val_acc: 0.2373\n",
      "Epoch 5/20\n",
      " - 1s - loss: 1.8887 - acc: 0.2386 - val_loss: 1.8808 - val_acc: 0.2394\n",
      "Epoch 6/20\n",
      " - 1s - loss: 1.8604 - acc: 0.2448 - val_loss: 1.8565 - val_acc: 0.2542\n",
      "Epoch 7/20\n",
      " - 1s - loss: 1.8377 - acc: 0.2502 - val_loss: 1.8356 - val_acc: 0.2594\n",
      "Epoch 8/20\n",
      " - 1s - loss: 1.8187 - acc: 0.2511 - val_loss: 1.8183 - val_acc: 0.2664\n",
      "Epoch 9/20\n",
      " - 1s - loss: 1.8018 - acc: 0.2657 - val_loss: 1.8022 - val_acc: 0.2467\n",
      "Epoch 10/20\n",
      " - 1s - loss: 1.7862 - acc: 0.2639 - val_loss: 1.7874 - val_acc: 0.2977\n",
      "Epoch 11/20\n",
      " - 2s - loss: 1.7713 - acc: 0.2635 - val_loss: 1.7733 - val_acc: 0.2676\n",
      "Epoch 12/20\n",
      " - 2s - loss: 1.7578 - acc: 0.2773 - val_loss: 1.7607 - val_acc: 0.2990\n",
      "Epoch 13/20\n",
      " - 2s - loss: 1.7455 - acc: 0.2964 - val_loss: 1.7511 - val_acc: 0.3046\n",
      "Epoch 14/20\n",
      " - 2s - loss: 1.7347 - acc: 0.3118 - val_loss: 1.7407 - val_acc: 0.3299\n",
      "Epoch 15/20\n",
      " - 1s - loss: 1.7249 - acc: 0.3248 - val_loss: 1.7326 - val_acc: 0.3407\n",
      "Epoch 16/20\n",
      " - 1s - loss: 1.7163 - acc: 0.3349 - val_loss: 1.7252 - val_acc: 0.3405\n",
      "Epoch 17/20\n",
      " - 1s - loss: 1.7084 - acc: 0.3375 - val_loss: 1.7190 - val_acc: 0.3530\n",
      "Epoch 18/20\n",
      " - 1s - loss: 1.7015 - acc: 0.3439 - val_loss: 1.7136 - val_acc: 0.3493\n",
      "Epoch 19/20\n",
      " - 1s - loss: 1.6952 - acc: 0.3436 - val_loss: 1.7101 - val_acc: 0.3495\n",
      "Epoch 20/20\n",
      " - 1s - loss: 1.6894 - acc: 0.3478 - val_loss: 1.7023 - val_acc: 0.3511\n",
      "Baseline Error: 64.89%\n"
     ]
    }
   ],
   "source": [
    "# define baseline model\n",
    "def baseline_model():\n",
    "    model = Sequential()\n",
    "    model.add(Dense(1,input_shape=(784,),activation='relu'))\n",
    "    model.add(Dense(10, activation = 'sigmoid'))\n",
    "    model.compile(loss= 'categorical_crossentropy' , optimizer= 'adam' , metrics=[ 'accuracy' ])\n",
    "    return model\n",
    "\n",
    "# build the model\n",
    "model = baseline_model()\n",
    "# Fit the model\n",
    "model.fit(X_train, y_train, validation_data=(X_test, y_test), epochs=20, batch_size=200, verbose=2)\n",
    "# Final evaluation of the model\n",
    "scores = model.evaluate(X_test, y_test, verbose=0)\n",
    "print(\"Baseline Error: %.2f%%\" % (100-scores[1]*100))"
   ]
  },
  {
   "cell_type": "markdown",
   "metadata": {},
   "source": [
    "## Simple CNN model\n",
    "Now we will build a simple CNN model and see if it can do better than our baseline model above (NN without convolution layer)."
   ]
  },
  {
   "cell_type": "code",
   "execution_count": 246,
   "metadata": {},
   "outputs": [
    {
     "name": "stdout",
     "output_type": "stream",
     "text": [
      "(60000, 28, 28)\n",
      "(10000, 28, 28)\n"
     ]
    }
   ],
   "source": [
    "# Simple CNN for the MNIST Dataset\n",
    "import numpy\n",
    "from keras.datasets import mnist\n",
    "from keras.models import Sequential\n",
    "from keras.layers import Dense\n",
    "from keras.layers import Dropout\n",
    "from keras.layers import Flatten\n",
    "from keras.layers.convolutional import Conv2D\n",
    "from keras.layers.convolutional import MaxPooling2D\n",
    "import keras.utils as np_utils\n",
    "from keras import backend as K\n",
    "\n",
    "K.set_image_dim_ordering('tf')\n",
    "\n",
    "# fix random seed for reproducibility\n",
    "seed = 123\n",
    "numpy.random.seed(seed)\n",
    "\n",
    "# load data\n",
    "(X_train, y_train), (X_test, y_test) = mnist.load_data()\n",
    "\n",
    "print(X_train.shape)\n",
    "print(X_test.shape)"
   ]
  },
  {
   "cell_type": "code",
   "execution_count": 247,
   "metadata": {},
   "outputs": [
    {
     "name": "stdout",
     "output_type": "stream",
     "text": [
      "(60000, 28, 28, 1)\n",
      "(10000, 28, 28, 1)\n"
     ]
    }
   ],
   "source": [
    "#### YOUR TURN\n",
    "# Reshape X_train and X_test to be (n_samples, width, height, channels)\n",
    "# Then cast the data type of the arrays to type 'float32'\n",
    "# Hint: the n_channel is 1 in this case. You can use .shape\n",
    "# Hint: .astype() changes numpy array's data type\n",
    "\n",
    "X_train = X_train.reshape((X_train.shape[0], X_train.shape[1], X_train.shape[2], 1)).astype('float32')\n",
    "\n",
    "print(X_train.shape)\n",
    "\n",
    "X_test = X_test.reshape((X_test.shape[0], X_test.shape[1], X_test.shape[2], 1)).astype('float32')\n",
    "\n",
    "print(X_test.shape)"
   ]
  },
  {
   "cell_type": "code",
   "execution_count": 248,
   "metadata": {},
   "outputs": [],
   "source": [
    "### YOUR TURN\n",
    "# Normalize inputs from 0-255 to 0-1\n",
    "X_train = X_train /255\n",
    "X_test = X_test / 255\n",
    "\n",
    "# Encode labels to categorical\n",
    "y_train = np_utils.to_categorical(y_train)\n",
    "y_test = np_utils.to_categorical(y_train)\n",
    "num_classes = y_test.shape[1]\n"
   ]
  },
  {
   "cell_type": "code",
   "execution_count": 249,
   "metadata": {},
   "outputs": [
    {
     "name": "stdout",
     "output_type": "stream",
     "text": [
      "(None, 10)\n"
     ]
    }
   ],
   "source": [
    "from keras.layers import Convolution2D, MaxPooling2D\n",
    "\n",
    "# create model\n",
    "### YOUR TURN\n",
    "# Build a model that has 1 convolution layer, 1 max pooling, 1 dense, and output \n",
    "# Use 32 filters with 5x5 size\n",
    "# For max pooling layer, make the layer such that the featuremap size would be the half after the pooling layer\n",
    "# hint: you need to change the argument input_shape to (w,h,1) in the first conv layer\n",
    "# hint: you need Flatten() before the first dense layer\n",
    "# Compile the model using the same options as above\n",
    "\n",
    "# define a simple CNN model\n",
    "def simple_cnn_model():\n",
    "    model = Sequential()\n",
    "    model.add(Convolution2D(32, kernel_size = (5,5), activation='relu', input_shape=(28,28,1)))\n",
    "    model.add(Convolution2D(32, kernel_size = (5,5), activation='relu'))\n",
    "    model.add(MaxPooling2D(pool_size=(1,1)))\n",
    "    model.add(Dropout(0.25))\n",
    "    model.add(Flatten())\n",
    "    model.add(Dense(128, activation='relu'))\n",
    "    model.add(Dropout(0.5))\n",
    "    model.add(Dense(10, activation='sigmoid'))\n",
    "    model.compile(loss='categorical_crossentropy',\n",
    "              optimizer= 'adam',\n",
    "              metrics=['accuracy'])\n",
    "    return model\n",
    "\n",
    "# build the model\n",
    "model = simple_cnn_model()\n",
    "\n",
    "print(model.output_shape)\n"
   ]
  },
  {
   "cell_type": "code",
   "execution_count": 250,
   "metadata": {},
   "outputs": [
    {
     "name": "stdout",
     "output_type": "stream",
     "text": [
      "Epoch 1/10\n",
      "60000/60000 [==============================] - 266s 4ms/step - loss: 0.3484 - acc: 0.9042\n",
      "Epoch 2/10\n",
      "60000/60000 [==============================] - 234s 4ms/step - loss: 0.0989 - acc: 0.9728\n",
      "Epoch 3/10\n",
      "60000/60000 [==============================] - 214s 4ms/step - loss: 0.0674 - acc: 0.9804\n",
      "Epoch 4/10\n",
      "60000/60000 [==============================] - 214s 4ms/step - loss: 0.0532 - acc: 0.9850\n",
      "Epoch 5/10\n",
      "60000/60000 [==============================] - 215s 4ms/step - loss: 0.0447 - acc: 0.9875\n",
      "Epoch 6/10\n",
      "60000/60000 [==============================] - 213s 4ms/step - loss: 0.0385 - acc: 0.9884\n",
      "Epoch 7/10\n",
      "60000/60000 [==============================] - 211s 4ms/step - loss: 0.0330 - acc: 0.9896\n",
      "Epoch 8/10\n",
      "60000/60000 [==============================] - 211s 4ms/step - loss: 0.0291 - acc: 0.9912\n",
      "Epoch 9/10\n",
      "60000/60000 [==============================] - 211s 4ms/step - loss: 0.0256 - acc: 0.9917\n",
      "Epoch 10/10\n",
      "60000/60000 [==============================] - 211s 4ms/step - loss: 0.0243 - acc: 0.9922\n"
     ]
    },
    {
     "data": {
      "text/plain": [
       "<keras.callbacks.History at 0x138dc8fd0>"
      ]
     },
     "execution_count": 250,
     "metadata": {},
     "output_type": "execute_result"
    }
   ],
   "source": [
    "# Fit the model\n",
    "model.fit(X_train, y_train, epochs=10, batch_size=200, verbose=1)\n",
    "#model.fit(X_train, y_train, batch_size=32, epochs=10, verbose=1)\n",
    "\n",
    "# Final evaluation of the model\n",
    "#scores = model.evaluate(X_test, y_test, verbose=0)\n",
    "#print(\"CNN Error: %.2f%%\" % (100-scores[1]*100))"
   ]
  },
  {
   "cell_type": "markdown",
   "metadata": {},
   "source": [
    "## Two-layer CNN model\n",
    "Let's stack another convolutional layer."
   ]
  },
  {
   "cell_type": "code",
   "execution_count": 251,
   "metadata": {},
   "outputs": [],
   "source": [
    "# YOUR TURN\n",
    "# Build a 2-conv layer model\n",
    "# Try this architecture: conv-maxpool-conv-maxpool-dense-dense-output\n",
    "# Use 32 (5x5) filters for the first conv layer, and use 16 (3x3) filters for the second conv layer\n",
    "# Use the same max pool as above\n",
    "# (optional) you can compare with and with out dropout layer after the second maxpool layer\n",
    "# Usng dropout is a way to regularize your model. Dropout randomly drops some neurons in the feature map.\n",
    "# By dropping out some units, it effectively makes the model smaller so it helps reducing the overfitting. \n",
    "# see https://keras.io/layers/core/#dropout for the use\n",
    "# Use 1-2 dense layers before the output\n",
    "\n",
    "def bilayer_model():\n",
    "    # create model\n",
    "    model = Sequential()\n",
    "    model.add(Convolution2D(32, kernel_size = (5,5), activation='relu', input_shape=(28,28,1)))\n",
    "    model.add(Convolution2D(32, kernel_size = (3,3), activation='relu'))\n",
    "    model.add(MaxPooling2D(pool_size=(1,1)))\n",
    "    model.add(Dropout(0.25))\n",
    "    model.add(Flatten())\n",
    "    model.add(Dense(50, activation='relu'))\n",
    "    model.add(Dense(100, activation = 'relu'))\n",
    "    model.add(Dense(50, activation = 'relu'))\n",
    "    model.add(Dropout(0.5))\n",
    "    model.add(Dense(10, activation='softmax'))\n",
    "    model.compile(loss='categorical_crossentropy',\n",
    "              optimizer= 'adam',\n",
    "              metrics=['accuracy'])\n",
    "    return model\n",
    "   \n",
    "# build the model\n",
    "model = bilayer_model()"
   ]
  },
  {
   "cell_type": "code",
   "execution_count": 252,
   "metadata": {},
   "outputs": [
    {
     "name": "stdout",
     "output_type": "stream",
     "text": [
      "Epoch 1/20\n",
      " - 125s - loss: 0.4137 - acc: 0.8723\n",
      "Epoch 2/20\n",
      " - 124s - loss: 0.1147 - acc: 0.9708\n",
      "Epoch 3/20\n",
      " - 125s - loss: 0.0830 - acc: 0.9792\n",
      "Epoch 4/20\n",
      " - 124s - loss: 0.0622 - acc: 0.9842\n",
      "Epoch 5/20\n",
      " - 124s - loss: 0.0538 - acc: 0.9865\n",
      "Epoch 6/20\n",
      " - 124s - loss: 0.0464 - acc: 0.9879\n",
      "Epoch 7/20\n",
      " - 124s - loss: 0.0370 - acc: 0.9903\n",
      "Epoch 8/20\n",
      " - 124s - loss: 0.0335 - acc: 0.9915\n",
      "Epoch 9/20\n",
      " - 124s - loss: 0.0289 - acc: 0.9923\n",
      "Epoch 10/20\n",
      " - 124s - loss: 0.0227 - acc: 0.9934\n",
      "Epoch 11/20\n",
      " - 124s - loss: 0.0235 - acc: 0.9939\n",
      "Epoch 12/20\n",
      " - 125s - loss: 0.0200 - acc: 0.9942\n",
      "Epoch 13/20\n",
      " - 124s - loss: 0.0213 - acc: 0.9943\n",
      "Epoch 14/20\n",
      " - 124s - loss: 0.0192 - acc: 0.9945\n",
      "Epoch 15/20\n",
      " - 124s - loss: 0.0159 - acc: 0.9957\n",
      "Epoch 16/20\n",
      " - 124s - loss: 0.0128 - acc: 0.9963\n",
      "Epoch 17/20\n",
      " - 124s - loss: 0.0122 - acc: 0.9962\n",
      "Epoch 18/20\n",
      " - 124s - loss: 0.0154 - acc: 0.9955\n",
      "Epoch 19/20\n",
      " - 124s - loss: 0.0140 - acc: 0.9960\n",
      "Epoch 20/20\n",
      " - 124s - loss: 0.0103 - acc: 0.9969\n"
     ]
    },
    {
     "data": {
      "text/plain": [
       "<keras.callbacks.History at 0x1380a4c88>"
      ]
     },
     "execution_count": 252,
     "metadata": {},
     "output_type": "execute_result"
    }
   ],
   "source": [
    "# Fit the model\n",
    "model.fit(X_train, y_train, epochs=20, batch_size=200, verbose=2)\n",
    "\n",
    "# Final evaluation of the model\n",
    "#scores = model.evaluate(X_test, y_test, verbose=0)\n",
    "#print(\"Large CNN Error: %.2f%%\" % (100-scores[1]*100))"
   ]
  },
  {
   "cell_type": "markdown",
   "metadata": {},
   "source": [
    "## More convolution layers "
   ]
  },
  {
   "cell_type": "code",
   "execution_count": 253,
   "metadata": {},
   "outputs": [],
   "source": [
    "def multilayer_cnn_model():\n",
    "    # create model\n",
    "    model = Sequential()\n",
    "    model.add(Convolution2D(32, kernel_size = (10,10), activation='relu', input_shape=(28,28,1)))\n",
    "    model.add(Convolution2D(32, kernel_size = (5,5), activation='relu'))\n",
    "    model.add(MaxPooling2D(pool_size=(3,3)))\n",
    "    model.add(Dropout(0.10))\n",
    "    model.add(Flatten())\n",
    "    model.add(Dense(50, activation='relu'))\n",
    "    model.add(Dense(100, activation = 'relu'))\n",
    "    model.add(Dense(50, activation = 'relu'))\n",
    "    model.add(Dropout(0.25))\n",
    "    model.add(Dense(10, activation='softmax'))\n",
    "    model.compile(loss='categorical_crossentropy',\n",
    "              optimizer= 'adam',\n",
    "              metrics=['accuracy'])\n",
    "    return model\n",
    "\n",
    "# build the model\n",
    "model = multilayer_cnn_model()\n"
   ]
  },
  {
   "cell_type": "code",
   "execution_count": 254,
   "metadata": {},
   "outputs": [
    {
     "name": "stdout",
     "output_type": "stream",
     "text": [
      "Epoch 1/20\n",
      " - 121s - loss: 0.4082 - acc: 0.8723\n",
      "Epoch 2/20\n",
      " - 121s - loss: 0.1062 - acc: 0.9700\n",
      "Epoch 3/20\n",
      " - 120s - loss: 0.0749 - acc: 0.9792\n",
      "Epoch 4/20\n",
      " - 121s - loss: 0.0588 - acc: 0.9832\n",
      "Epoch 5/20\n",
      " - 120s - loss: 0.0499 - acc: 0.9860\n",
      "Epoch 6/20\n",
      " - 120s - loss: 0.0431 - acc: 0.9880\n",
      "Epoch 7/20\n",
      " - 120s - loss: 0.0366 - acc: 0.9903\n",
      "Epoch 8/20\n",
      " - 120s - loss: 0.0310 - acc: 0.9914\n",
      "Epoch 9/20\n",
      " - 120s - loss: 0.0272 - acc: 0.9923\n",
      "Epoch 10/20\n",
      " - 120s - loss: 0.0263 - acc: 0.9919\n",
      "Epoch 11/20\n",
      " - 120s - loss: 0.0231 - acc: 0.9934\n",
      "Epoch 12/20\n",
      " - 121s - loss: 0.0225 - acc: 0.9932\n",
      "Epoch 13/20\n",
      " - 121s - loss: 0.0178 - acc: 0.9947\n",
      "Epoch 14/20\n",
      " - 120s - loss: 0.0195 - acc: 0.9942\n",
      "Epoch 15/20\n",
      " - 120s - loss: 0.0183 - acc: 0.9948\n",
      "Epoch 16/20\n",
      " - 120s - loss: 0.0163 - acc: 0.9953\n",
      "Epoch 17/20\n",
      " - 120s - loss: 0.0162 - acc: 0.9950\n",
      "Epoch 18/20\n",
      " - 120s - loss: 0.0145 - acc: 0.9956\n",
      "Epoch 19/20\n",
      " - 120s - loss: 0.0144 - acc: 0.9958\n",
      "Epoch 20/20\n",
      " - 120s - loss: 0.0116 - acc: 0.9963\n"
     ]
    },
    {
     "data": {
      "text/plain": [
       "<keras.callbacks.History at 0x1432d6668>"
      ]
     },
     "execution_count": 254,
     "metadata": {},
     "output_type": "execute_result"
    }
   ],
   "source": [
    "# Fit the model\n",
    "model.fit(X_train, y_train, epochs=20, batch_size=200, verbose=2)\n",
    "# Final evaluation of the model\n",
    "#scores = model.evaluate(X_test, y_test, verbose=0)\n",
    "#print(\"CNN Error: %.2f%%\" % (100-scores[1]*100))"
   ]
  },
  {
   "cell_type": "markdown",
   "metadata": {
    "collapsed": true
   },
   "source": [
    "Discussion:\n",
    "Give bullet pints summary of what you have found from above experiments.\n",
    "e.g. \n",
    "- how is a 1-layer ANN vs. 1-layer CNN?\n",
    "    * a one layer ANN performs much worse, but much faster than a convolutional neural network. In comparison would be 36% accuracy to 99.7%\n",
    "- when the number of layers increases, what happens to the performance?\n",
    "    * when the number of layers increases, the performance improves, however does leave risk for overfitting\n",
    "- what happens if I have very deep CNN? did you face with any problems?\n",
    "    * the deeper the cnn, the greater the computational power it took to run. The accuracy of a simple CNN was nearly perfect, but operated much quicker\n",
    "- what can you do to reduce an overfitting problem?\n",
    "    * to reduce overfitting we can use stride, pooling and drop out. Each of which help reduce smaller sensitities to averages/min/max/sum or cross pool relationships\n",
    "- search internet and list other ways to reduce overfitting in CNN\n",
    "    * Steps for reducing overfitting via <https://towardsdatascience.com/deep-learning-3-more-on-cnns-handling-overfitting-2bd5d99abe5d>:\n",
    "        1. Add more data\n",
    "        2. Use data augmentation\n",
    "        3. Use architectures that generalize well\n",
    "            * pooling\n",
    "            * stride\n",
    "            * not too specific of depth\n",
    "            * normalization\n",
    "        4. Add regularization (mostly dropout, L1/L2 regularization are also possible)\n",
    "        5. Reduce architecture complexity."
   ]
  },
  {
   "cell_type": "code",
   "execution_count": null,
   "metadata": {},
   "outputs": [],
   "source": []
  }
 ],
 "metadata": {
  "kernelspec": {
   "display_name": "Python 3",
   "language": "python",
   "name": "python3"
  },
  "language_info": {
   "codemirror_mode": {
    "name": "ipython",
    "version": 3
   },
   "file_extension": ".py",
   "mimetype": "text/x-python",
   "name": "python",
   "nbconvert_exporter": "python",
   "pygments_lexer": "ipython3",
   "version": "3.6.4"
  }
 },
 "nbformat": 4,
 "nbformat_minor": 2
}
