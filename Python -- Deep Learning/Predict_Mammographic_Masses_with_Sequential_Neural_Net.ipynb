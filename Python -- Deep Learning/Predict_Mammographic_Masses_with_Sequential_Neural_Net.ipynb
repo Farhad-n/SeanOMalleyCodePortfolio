{
 "cells": [
  {
   "cell_type": "markdown",
   "metadata": {},
   "source": [
    "## Predict mammogram results\n",
    "### Classification with Sequential Neural Net in Python\n",
    "#### Sean O'Malley"
   ]
  },
  {
   "cell_type": "code",
   "execution_count": 19,
   "metadata": {},
   "outputs": [],
   "source": [
    "# Import Packages\n",
    "import os\n",
    "import pandas as pd\n",
    "from keras.models import Sequential\n",
    "from keras.layers import Input, Activation, Dense, Dropout, BatchNormalization\n",
    "from keras.models import Model, load_model\n",
    "import keras.backend as K\n",
    "from keras.callbacks import ModelCheckpoint\n",
    "import numpy as np\n",
    "from keras import optimizers\n",
    "from keras.callbacks import EarlyStopping\n",
    "\n",
    "import pandas\n",
    "import requests\n",
    "import io\n",
    "\n",
    "from sklearn.model_selection import train_test_split\n",
    "\n",
    "import matplotlib.pyplot as plt\n",
    "import time\n"
   ]
  },
  {
   "cell_type": "code",
   "execution_count": 20,
   "metadata": {},
   "outputs": [],
   "source": [
    "# Import Data\n",
    "\n",
    "data_url = 'https://archive.ics.uci.edu/ml/machine-learning-databases/mammographic-masses/mammographic_masses.data'\n",
    "data_header =  ['birads','age','shape','margin','density','severity']\n",
    "\n",
    "data_response = requests.get(data_url).content\n",
    "\n",
    "df = pd.read_table(io.StringIO(data_response.decode('utf-8')), sep = ',', header = None, na_values = '?')\n",
    "\n",
    "df.columns = data_header\n"
   ]
  },
  {
   "cell_type": "code",
   "execution_count": 21,
   "metadata": {},
   "outputs": [
    {
     "data": {
      "text/html": [
       "<div>\n",
       "<style scoped>\n",
       "    .dataframe tbody tr th:only-of-type {\n",
       "        vertical-align: middle;\n",
       "    }\n",
       "\n",
       "    .dataframe tbody tr th {\n",
       "        vertical-align: top;\n",
       "    }\n",
       "\n",
       "    .dataframe thead th {\n",
       "        text-align: right;\n",
       "    }\n",
       "</style>\n",
       "<table border=\"1\" class=\"dataframe\">\n",
       "  <thead>\n",
       "    <tr style=\"text-align: right;\">\n",
       "      <th></th>\n",
       "      <th>birads</th>\n",
       "      <th>age</th>\n",
       "      <th>shape</th>\n",
       "      <th>margin</th>\n",
       "      <th>density</th>\n",
       "      <th>severity</th>\n",
       "    </tr>\n",
       "  </thead>\n",
       "  <tbody>\n",
       "    <tr>\n",
       "      <th>0</th>\n",
       "      <td>5.0</td>\n",
       "      <td>67.0</td>\n",
       "      <td>3.0</td>\n",
       "      <td>5.0</td>\n",
       "      <td>3.0</td>\n",
       "      <td>1</td>\n",
       "    </tr>\n",
       "    <tr>\n",
       "      <th>1</th>\n",
       "      <td>4.0</td>\n",
       "      <td>43.0</td>\n",
       "      <td>1.0</td>\n",
       "      <td>1.0</td>\n",
       "      <td>NaN</td>\n",
       "      <td>1</td>\n",
       "    </tr>\n",
       "    <tr>\n",
       "      <th>2</th>\n",
       "      <td>5.0</td>\n",
       "      <td>58.0</td>\n",
       "      <td>4.0</td>\n",
       "      <td>5.0</td>\n",
       "      <td>3.0</td>\n",
       "      <td>1</td>\n",
       "    </tr>\n",
       "    <tr>\n",
       "      <th>3</th>\n",
       "      <td>4.0</td>\n",
       "      <td>28.0</td>\n",
       "      <td>1.0</td>\n",
       "      <td>1.0</td>\n",
       "      <td>3.0</td>\n",
       "      <td>0</td>\n",
       "    </tr>\n",
       "    <tr>\n",
       "      <th>4</th>\n",
       "      <td>5.0</td>\n",
       "      <td>74.0</td>\n",
       "      <td>1.0</td>\n",
       "      <td>5.0</td>\n",
       "      <td>NaN</td>\n",
       "      <td>1</td>\n",
       "    </tr>\n",
       "  </tbody>\n",
       "</table>\n",
       "</div>"
      ],
      "text/plain": [
       "   birads   age  shape  margin  density  severity\n",
       "0     5.0  67.0    3.0     5.0      3.0         1\n",
       "1     4.0  43.0    1.0     1.0      NaN         1\n",
       "2     5.0  58.0    4.0     5.0      3.0         1\n",
       "3     4.0  28.0    1.0     1.0      3.0         0\n",
       "4     5.0  74.0    1.0     5.0      NaN         1"
      ]
     },
     "execution_count": 21,
     "metadata": {},
     "output_type": "execute_result"
    }
   ],
   "source": [
    "df.head()"
   ]
  },
  {
   "cell_type": "code",
   "execution_count": 22,
   "metadata": {},
   "outputs": [
    {
     "name": "stdout",
     "output_type": "stream",
     "text": [
      "birads       2\n",
      "age          5\n",
      "shape       31\n",
      "margin      48\n",
      "density     76\n",
      "severity     0\n",
      "dtype: int64\n",
      "-------\n",
      "birads      959\n",
      "age         956\n",
      "shape       930\n",
      "margin      913\n",
      "density     885\n",
      "severity    961\n",
      "dtype: int64\n"
     ]
    }
   ],
   "source": [
    "print(df.isnull().sum()) \n",
    "print('-------')\n",
    "print(df.count())"
   ]
  },
  {
   "cell_type": "markdown",
   "metadata": {},
   "source": [
    "Given the not overwealming number of NaNs in the data, I have chosen to move forward with dropping na values"
   ]
  },
  {
   "cell_type": "code",
   "execution_count": 23,
   "metadata": {},
   "outputs": [],
   "source": [
    "df = df.dropna()"
   ]
  },
  {
   "cell_type": "code",
   "execution_count": 24,
   "metadata": {},
   "outputs": [
    {
     "name": "stdout",
     "output_type": "stream",
     "text": [
      "<class 'pandas.core.frame.DataFrame'>\n",
      "Int64Index: 830 entries, 0 to 960\n",
      "Data columns (total 6 columns):\n",
      "birads      830 non-null float64\n",
      "age         830 non-null float64\n",
      "shape       830 non-null float64\n",
      "margin      830 non-null float64\n",
      "density     830 non-null float64\n",
      "severity    830 non-null int64\n",
      "dtypes: float64(5), int64(1)\n",
      "memory usage: 45.4 KB\n"
     ]
    }
   ],
   "source": [
    "df.info()"
   ]
  },
  {
   "cell_type": "code",
   "execution_count": 25,
   "metadata": {},
   "outputs": [
    {
     "data": {
      "text/html": [
       "<div>\n",
       "<style scoped>\n",
       "    .dataframe tbody tr th:only-of-type {\n",
       "        vertical-align: middle;\n",
       "    }\n",
       "\n",
       "    .dataframe tbody tr th {\n",
       "        vertical-align: top;\n",
       "    }\n",
       "\n",
       "    .dataframe thead th {\n",
       "        text-align: right;\n",
       "    }\n",
       "</style>\n",
       "<table border=\"1\" class=\"dataframe\">\n",
       "  <thead>\n",
       "    <tr style=\"text-align: right;\">\n",
       "      <th></th>\n",
       "      <th>birads</th>\n",
       "      <th>age</th>\n",
       "      <th>shape</th>\n",
       "      <th>margin</th>\n",
       "      <th>density</th>\n",
       "      <th>severity</th>\n",
       "    </tr>\n",
       "  </thead>\n",
       "  <tbody>\n",
       "    <tr>\n",
       "      <th>0</th>\n",
       "      <td>5.0</td>\n",
       "      <td>67.0</td>\n",
       "      <td>3.0</td>\n",
       "      <td>5.0</td>\n",
       "      <td>3.0</td>\n",
       "      <td>1</td>\n",
       "    </tr>\n",
       "    <tr>\n",
       "      <th>2</th>\n",
       "      <td>5.0</td>\n",
       "      <td>58.0</td>\n",
       "      <td>4.0</td>\n",
       "      <td>5.0</td>\n",
       "      <td>3.0</td>\n",
       "      <td>1</td>\n",
       "    </tr>\n",
       "    <tr>\n",
       "      <th>3</th>\n",
       "      <td>4.0</td>\n",
       "      <td>28.0</td>\n",
       "      <td>1.0</td>\n",
       "      <td>1.0</td>\n",
       "      <td>3.0</td>\n",
       "      <td>0</td>\n",
       "    </tr>\n",
       "    <tr>\n",
       "      <th>8</th>\n",
       "      <td>5.0</td>\n",
       "      <td>57.0</td>\n",
       "      <td>1.0</td>\n",
       "      <td>5.0</td>\n",
       "      <td>3.0</td>\n",
       "      <td>1</td>\n",
       "    </tr>\n",
       "    <tr>\n",
       "      <th>10</th>\n",
       "      <td>5.0</td>\n",
       "      <td>76.0</td>\n",
       "      <td>1.0</td>\n",
       "      <td>4.0</td>\n",
       "      <td>3.0</td>\n",
       "      <td>1</td>\n",
       "    </tr>\n",
       "  </tbody>\n",
       "</table>\n",
       "</div>"
      ],
      "text/plain": [
       "    birads   age  shape  margin  density  severity\n",
       "0      5.0  67.0    3.0     5.0      3.0         1\n",
       "2      5.0  58.0    4.0     5.0      3.0         1\n",
       "3      4.0  28.0    1.0     1.0      3.0         0\n",
       "8      5.0  57.0    1.0     5.0      3.0         1\n",
       "10     5.0  76.0    1.0     4.0      3.0         1"
      ]
     },
     "execution_count": 25,
     "metadata": {},
     "output_type": "execute_result"
    }
   ],
   "source": [
    "df.head()"
   ]
  },
  {
   "cell_type": "code",
   "execution_count": 26,
   "metadata": {},
   "outputs": [],
   "source": [
    "# Optimized data format for NN\n",
    "\n",
    "Target = np.array(df['severity'])\n",
    "# drop birads also because its non-predictive\n",
    "Predictor = np.array(df.drop(['severity','birads'],axis=1))\n",
    "n_cols = Predictor.shape[1]"
   ]
  },
  {
   "cell_type": "code",
   "execution_count": 27,
   "metadata": {},
   "outputs": [
    {
     "name": "stdout",
     "output_type": "stream",
     "text": [
      "(830, 4) (830,)\n"
     ]
    }
   ],
   "source": [
    "print(Predictor.shape, Target.shape)"
   ]
  },
  {
   "cell_type": "markdown",
   "metadata": {},
   "source": [
    "We will be predicting the severty column, where 0 is a benign mass and 1 is a malignant tumor"
   ]
  },
  {
   "cell_type": "code",
   "execution_count": 28,
   "metadata": {},
   "outputs": [
    {
     "name": "stdout",
     "output_type": "stream",
     "text": [
      "[1 1 0 1 1 1 0 0 0 0 1 1 1 1 1 1 1 0 0 1 1 0 0 0 1 0 0 0 1 1 1 0 1 0 1 1 0\n",
      " 1 0 0 0 0 1 0 1 0 1 0 1 0 0 1 1 1 1 1 1 1 1 0 0 0 0 1 0 0 0 1 0 1 0 0 0 0\n",
      " 1 1 1 0 1 1 1 1 0 1 1 0 0 1 1 1 0 1 1 0 0 0 0 1 0 0 0 1 1 0 1 1 0 0 0 0 1\n",
      " 0 0 1 0 0 0 0 1 1 1 1 0 1 0 1 0 1 0 1 0 0 0 0 1 0 0 1 0 1 0 0 1 1 0 0 0 0\n",
      " 0 0 1 1 1 0 1 0 0 0 1 1 0 1 0 0 1 0 1 0 0 0 1 0 0 1 0 0 0 1 0 1 1 1 1 1 1\n",
      " 1 0 0 1 0 1 0 1 1 1 1 1 0 1 0 1 0 1 0 0 1 1 0 0 1 0 1 0 1 1 0 1 0 1 1 1 0\n",
      " 0 0 0 0 0 0 0 1 1 1 1 0 0 0 0 1 1 1 0 1 0 0 0 0 1 1 1 0 1 1 0 1 1 1 1 1 1\n",
      " 0 0 0 1 0 1 0 0 1 0 0 1 0 0 1 1 1 1 0 1 0 0 0 1 1 1 1 0 1 0 1 0 1 0 1 1 0\n",
      " 0 1 0 1 1 0 0 1 1 0 0 1 0 1 0 1 1 1 1 0 0 1 0 1 0 1 1 1 0 1 1 1 1 0 0 1 0\n",
      " 1 0 1 1 0 1 0 1 1 1 1 1 0 1 1 1 0 1 1 0 0 1 1 1 0 0 0 1 1 1 0 1 0 0 1 1 0\n",
      " 1 0 1 0 0 0 0 0 1 0 1 0 0 0 0 0 0 1 1 0 1 1 1 1 1 0 0 1 0 0 0 0 0 1 1 1 1\n",
      " 0 0 1 1 1 0 0 1 0 1 0 0 1 1 1 0 1 0 0 0 0 1 0 1 0 0 0 1 1 0 0 1 1 1 1 0 0\n",
      " 0 0 0 1 0 1 1 0 0 1 1 0 0 0 0 0 0 0 1 0 0 1 0 0 0 1 0 0 0 0 1 1 0 1 1 0 0\n",
      " 0 1 0 1 1 0 1 1 1 0 1 1 0 0 1 1 1 0 1 0 1 0 1 0 0 0 0 1 1 0 1 0 0 0 0 0 1\n",
      " 0 1 0 0 0 1 1 0 1 0 0 0 1 0 0 1 0 1 0 1 0 1 1 0 0 1 1 1 0 0 1 0 1 1 1 1 1\n",
      " 1 1 1 0 0 0 0 1 1 1 1 1 1 0 1 1 0 0 0 1 0 1 1 1 0 1 0 1 0 0 1 0 0 0 1 1 0\n",
      " 0 0 1 1 0 0 0 1 1 0 1 1 0 0 1 1 0 0 0 0 0 1 0 0 0 0 0 0 0 1 0 1 0 0 0 1 0\n",
      " 0 1 1 1 1 0 1 1 1 0 1 1 0 0 1 0 0 1 0 1 0 0 0 0 0 0 1 1 0 1 0 1 1 0 0 1 1\n",
      " 0 0 1 1 1 0 1 1 1 0 0 0 1 1 0 1 0 1 1 1 0 1 0 0 0 0 1 0 0 1 0 1 1 0 1 1 0\n",
      " 1 1 0 1 0 1 0 0 0 0 1 0 0 0 0 0 1 0 0 1 0 0 1 0 1 0 1 1 1 1 1 1 1 0 1 0 0\n",
      " 0 1 0 1 1 0 0 0 0 1 0 1 1 0 1 1 0 1 1 1 1 1 1 0 0 1 0 1 0 1 1 1 0 1 1 0 0\n",
      " 1 1 0 1 0 1 0 1 0 0 1 0 0 0 1 0 1 0 1 0 1 0 0 1 0 0 0 1 0 0 0 0 1 0 1 0 1\n",
      " 0 0 0 1 0 1 1 1 0 0 1 0 1 0 1 0]\n",
      "-------\n",
      "[[ 67.   3.   5.   3.]\n",
      " [ 58.   4.   5.   3.]\n",
      " [ 28.   1.   1.   3.]\n",
      " ..., \n",
      " [ 64.   4.   5.   3.]\n",
      " [ 66.   4.   5.   3.]\n",
      " [ 62.   3.   3.   3.]]\n"
     ]
    }
   ],
   "source": [
    "print(Target)\n",
    "print('-------')\n",
    "print(Predictor)"
   ]
  },
  {
   "cell_type": "markdown",
   "metadata": {},
   "source": [
    "Split into test and training groups"
   ]
  },
  {
   "cell_type": "code",
   "execution_count": 29,
   "metadata": {},
   "outputs": [],
   "source": [
    "Predictor_train, Predictor_test, Target_train, Target_test = train_test_split(Predictor, Target, test_size=0.2, random_state=42)"
   ]
  },
  {
   "cell_type": "markdown",
   "metadata": {},
   "source": [
    "Check the shape of the data"
   ]
  },
  {
   "cell_type": "code",
   "execution_count": 30,
   "metadata": {},
   "outputs": [
    {
     "name": "stdout",
     "output_type": "stream",
     "text": [
      "(664, 4) (166, 4) (664,) (166,)\n"
     ]
    }
   ],
   "source": [
    "print(Predictor_train.shape, Predictor_test.shape, Target_train.shape, Target_test.shape)"
   ]
  },
  {
   "cell_type": "markdown",
   "metadata": {},
   "source": [
    "#### Initial Model Build\n",
    "\n",
    "Sequential neural net structure with relu activation function and 100 nodes in each hidden layer"
   ]
  },
  {
   "cell_type": "code",
   "execution_count": 31,
   "metadata": {},
   "outputs": [],
   "source": [
    "model = Sequential()\n",
    "model.add(Dense(16,input_shape=(n_cols,),activation='relu'))\n",
    "model.add(Dense(32, activation = 'relu'))\n",
    "model.add(Dense(16, activation = 'relu'))\n",
    "model.add(Dense(1, activation = 'sigmoid'))"
   ]
  },
  {
   "cell_type": "markdown",
   "metadata": {},
   "source": [
    "View model summary"
   ]
  },
  {
   "cell_type": "code",
   "execution_count": 32,
   "metadata": {},
   "outputs": [
    {
     "name": "stdout",
     "output_type": "stream",
     "text": [
      "_________________________________________________________________\n",
      "Layer (type)                 Output Shape              Param #   \n",
      "=================================================================\n",
      "dense_5 (Dense)              (None, 16)                80        \n",
      "_________________________________________________________________\n",
      "dense_6 (Dense)              (None, 32)                544       \n",
      "_________________________________________________________________\n",
      "dense_7 (Dense)              (None, 16)                528       \n",
      "_________________________________________________________________\n",
      "dense_8 (Dense)              (None, 1)                 17        \n",
      "=================================================================\n",
      "Total params: 1,169\n",
      "Trainable params: 1,169\n",
      "Non-trainable params: 0\n",
      "_________________________________________________________________\n"
     ]
    }
   ],
   "source": [
    "model.summary()"
   ]
  },
  {
   "cell_type": "markdown",
   "metadata": {},
   "source": [
    "Compile model, view accuracy metric"
   ]
  },
  {
   "cell_type": "code",
   "execution_count": 33,
   "metadata": {},
   "outputs": [],
   "source": [
    "model.compile(optimizer= 'adam', loss ='binary_crossentropy', metrics=['accuracy'])"
   ]
  },
  {
   "cell_type": "markdown",
   "metadata": {},
   "source": [
    "Fit initial model"
   ]
  },
  {
   "cell_type": "code",
   "execution_count": 34,
   "metadata": {},
   "outputs": [
    {
     "name": "stdout",
     "output_type": "stream",
     "text": [
      "Epoch 1/20\n",
      "664/664 [==============================] - 0s 341us/step - loss: 1.1929 - acc: 0.4970\n",
      "Epoch 2/20\n",
      "664/664 [==============================] - 0s 191us/step - loss: 0.6847 - acc: 0.5407\n",
      "Epoch 3/20\n",
      "664/664 [==============================] - 0s 152us/step - loss: 0.6578 - acc: 0.6566\n",
      "Epoch 4/20\n",
      "664/664 [==============================] - 0s 157us/step - loss: 0.6432 - acc: 0.6175\n",
      "Epoch 5/20\n",
      "664/664 [==============================] - 0s 172us/step - loss: 0.6303 - acc: 0.7726\n",
      "Epoch 6/20\n",
      "664/664 [==============================] - 0s 205us/step - loss: 0.6271 - acc: 0.6762\n",
      "Epoch 7/20\n",
      "664/664 [==============================] - 0s 147us/step - loss: 0.6227 - acc: 0.7078\n",
      "Epoch 8/20\n",
      "664/664 [==============================] - 0s 193us/step - loss: 0.6044 - acc: 0.7681\n",
      "Epoch 9/20\n",
      "664/664 [==============================] - 0s 167us/step - loss: 0.6000 - acc: 0.7560\n",
      "Epoch 10/20\n",
      "664/664 [==============================] - 0s 166us/step - loss: 0.5903 - acc: 0.7666\n",
      "Epoch 11/20\n",
      "664/664 [==============================] - 0s 165us/step - loss: 0.5955 - acc: 0.7078\n",
      "Epoch 12/20\n",
      "664/664 [==============================] - 0s 179us/step - loss: 0.5808 - acc: 0.7455\n",
      "Epoch 13/20\n",
      "664/664 [==============================] - 0s 144us/step - loss: 0.5645 - acc: 0.7636\n",
      "Epoch 14/20\n",
      "664/664 [==============================] - 0s 126us/step - loss: 0.5498 - acc: 0.7786\n",
      "Epoch 15/20\n",
      "664/664 [==============================] - 0s 137us/step - loss: 0.5403 - acc: 0.7892\n",
      "Epoch 16/20\n",
      "664/664 [==============================] - 0s 141us/step - loss: 0.5387 - acc: 0.7771\n",
      "Epoch 17/20\n",
      "664/664 [==============================] - 0s 145us/step - loss: 0.5329 - acc: 0.7786\n",
      "Epoch 18/20\n",
      "664/664 [==============================] - 0s 144us/step - loss: 0.5192 - acc: 0.7831\n",
      "Epoch 19/20\n",
      "664/664 [==============================] - 0s 162us/step - loss: 0.5153 - acc: 0.7846\n",
      "Epoch 20/20\n",
      "664/664 [==============================] - 0s 171us/step - loss: 0.5184 - acc: 0.7741\n"
     ]
    },
    {
     "data": {
      "text/plain": [
       "<keras.callbacks.History at 0x1a191decf8>"
      ]
     },
     "execution_count": 34,
     "metadata": {},
     "output_type": "execute_result"
    }
   ],
   "source": [
    "model.fit(Predictor_train, Target_train, batch_size=30, epochs=20)"
   ]
  },
  {
   "cell_type": "markdown",
   "metadata": {},
   "source": [
    "### Initial Results\n",
    "\n",
    "We have a model that is doing a pretty decent job in our first go around. Using a fairly simple 3 layered model, we can make improvements on loss and accuracy, but we certainly need to push further because the cost of a misdiagnosis is far too grave to not strive for perfect predictions."
   ]
  },
  {
   "cell_type": "markdown",
   "metadata": {},
   "source": [
    "#### Bigger model, early stopping implemented, tune optimizer, track results"
   ]
  },
  {
   "cell_type": "code",
   "execution_count": 35,
   "metadata": {},
   "outputs": [],
   "source": [
    "def get_new_model():\n",
    "    model = Sequential()\n",
    "    model.add(Dense(25,input_shape=(n_cols,),activation='relu'))\n",
    "    model.add(Dense(50, activation = 'relu'))\n",
    "    model.add(Dense(50, activation = 'relu'))\n",
    "    model.add(Dense(1, activation = 'sigmoid'))\n",
    "    return model"
   ]
  },
  {
   "cell_type": "markdown",
   "metadata": {},
   "source": [
    "Lets make the optimizer better, but also create a vector of learning rates to see which one could work better"
   ]
  },
  {
   "cell_type": "code",
   "execution_count": 36,
   "metadata": {},
   "outputs": [
    {
     "name": "stdout",
     "output_type": "stream",
     "text": [
      "\n",
      "\n",
      "Test learning rate: 0.000001\n",
      "\n",
      "Epoch 1/20\n",
      "664/664 [==============================] - 0s 384us/step - loss: 3.2882 - acc: 0.4910\n",
      "Epoch 2/20\n",
      "664/664 [==============================] - 0s 156us/step - loss: 3.2721 - acc: 0.4910\n",
      "Epoch 3/20\n",
      "664/664 [==============================] - 0s 140us/step - loss: 3.2565 - acc: 0.4910\n",
      "Epoch 4/20\n",
      "664/664 [==============================] - 0s 172us/step - loss: 3.2408 - acc: 0.4910\n",
      "Epoch 5/20\n",
      "664/664 [==============================] - 0s 179us/step - loss: 3.2253 - acc: 0.4910\n",
      "Epoch 6/20\n",
      "664/664 [==============================] - 0s 152us/step - loss: 3.2098 - acc: 0.4910\n",
      "Epoch 7/20\n",
      "664/664 [==============================] - 0s 142us/step - loss: 3.1941 - acc: 0.4910\n",
      "Epoch 8/20\n",
      "664/664 [==============================] - 0s 148us/step - loss: 3.1781 - acc: 0.4910\n",
      "Epoch 9/20\n",
      "664/664 [==============================] - 0s 156us/step - loss: 3.1627 - acc: 0.4910\n",
      "Epoch 10/20\n",
      "664/664 [==============================] - 0s 143us/step - loss: 3.1471 - acc: 0.4910\n",
      "Epoch 11/20\n",
      "664/664 [==============================] - 0s 152us/step - loss: 3.1315 - acc: 0.4910\n",
      "Epoch 12/20\n",
      "664/664 [==============================] - 0s 160us/step - loss: 3.1160 - acc: 0.4910\n",
      "Epoch 13/20\n",
      "664/664 [==============================] - 0s 138us/step - loss: 3.1006 - acc: 0.4910\n",
      "Epoch 14/20\n",
      "664/664 [==============================] - 0s 165us/step - loss: 3.0851 - acc: 0.4910\n",
      "Epoch 15/20\n",
      "664/664 [==============================] - 0s 120us/step - loss: 3.0695 - acc: 0.4910\n",
      "Epoch 16/20\n",
      "664/664 [==============================] - 0s 148us/step - loss: 3.0542 - acc: 0.4910\n",
      "Epoch 17/20\n",
      "664/664 [==============================] - 0s 143us/step - loss: 3.0389 - acc: 0.4910\n",
      "Epoch 18/20\n",
      "664/664 [==============================] - 0s 184us/step - loss: 3.0236 - acc: 0.4910\n",
      "Epoch 19/20\n",
      "664/664 [==============================] - 0s 158us/step - loss: 3.0085 - acc: 0.4910\n",
      "Epoch 20/20\n",
      "664/664 [==============================] - 0s 248us/step - loss: 2.9929 - acc: 0.4910\n",
      "\n",
      "\n",
      "Test learning rate: 0.010000\n",
      "\n",
      "Epoch 1/20\n",
      "664/664 [==============================] - 1s 1ms/step - loss: 1.3342 - acc: 0.5256\n",
      "Epoch 2/20\n",
      "664/664 [==============================] - 0s 182us/step - loss: 0.6243 - acc: 0.7108\n",
      "Epoch 3/20\n",
      "664/664 [==============================] - 0s 158us/step - loss: 0.6238 - acc: 0.6792\n",
      "Epoch 4/20\n",
      "664/664 [==============================] - 0s 170us/step - loss: 0.5595 - acc: 0.7485\n",
      "Epoch 5/20\n",
      "664/664 [==============================] - 0s 146us/step - loss: 0.5697 - acc: 0.7063\n",
      "Epoch 6/20\n",
      "664/664 [==============================] - 0s 147us/step - loss: 0.5172 - acc: 0.7605\n",
      "Epoch 7/20\n",
      "664/664 [==============================] - 0s 156us/step - loss: 0.4848 - acc: 0.7892\n",
      "Epoch 8/20\n",
      "664/664 [==============================] - 0s 172us/step - loss: 0.4924 - acc: 0.7846\n",
      "Epoch 9/20\n",
      "664/664 [==============================] - 0s 179us/step - loss: 0.4778 - acc: 0.7861\n",
      "Epoch 10/20\n",
      "664/664 [==============================] - 0s 152us/step - loss: 0.4763 - acc: 0.7831\n",
      "Epoch 11/20\n",
      "664/664 [==============================] - 0s 184us/step - loss: 0.4992 - acc: 0.7500\n",
      "Epoch 12/20\n",
      "664/664 [==============================] - 0s 206us/step - loss: 0.5101 - acc: 0.7651\n",
      "Epoch 13/20\n",
      "664/664 [==============================] - 0s 197us/step - loss: 0.5185 - acc: 0.7575\n",
      "Epoch 14/20\n",
      "664/664 [==============================] - 0s 201us/step - loss: 0.5103 - acc: 0.7605\n",
      "Epoch 15/20\n",
      "664/664 [==============================] - 0s 128us/step - loss: 0.4780 - acc: 0.7877\n",
      "Epoch 16/20\n",
      "664/664 [==============================] - 0s 152us/step - loss: 0.4870 - acc: 0.7786\n",
      "Epoch 17/20\n",
      "664/664 [==============================] - 0s 134us/step - loss: 0.4815 - acc: 0.7711\n",
      "Epoch 18/20\n",
      "664/664 [==============================] - 0s 132us/step - loss: 0.4875 - acc: 0.7831\n",
      "Epoch 19/20\n",
      "664/664 [==============================] - 0s 144us/step - loss: 0.5035 - acc: 0.7786\n",
      "Epoch 20/20\n",
      "664/664 [==============================] - 0s 156us/step - loss: 0.4848 - acc: 0.7816\n",
      "\n",
      "\n",
      "Test learning rate: 1.000000\n",
      "\n",
      "Epoch 1/20\n",
      "664/664 [==============================] - 0s 491us/step - loss: 7.5585 - acc: 0.5211\n",
      "Epoch 2/20\n",
      "664/664 [==============================] - 0s 112us/step - loss: 7.9134 - acc: 0.5090\n",
      "Epoch 3/20\n",
      "664/664 [==============================] - 0s 128us/step - loss: 7.9134 - acc: 0.5090\n",
      "Epoch 4/20\n",
      "664/664 [==============================] - 0s 127us/step - loss: 7.9134 - acc: 0.5090\n",
      "Epoch 5/20\n",
      "664/664 [==============================] - 0s 150us/step - loss: 7.9134 - acc: 0.5090\n",
      "Epoch 6/20\n",
      "664/664 [==============================] - 0s 146us/step - loss: 7.9134 - acc: 0.5090\n",
      "Epoch 7/20\n",
      "664/664 [==============================] - 0s 152us/step - loss: 7.9134 - acc: 0.5090\n",
      "Epoch 8/20\n",
      "664/664 [==============================] - 0s 148us/step - loss: 7.9134 - acc: 0.5090\n",
      "Epoch 9/20\n",
      "664/664 [==============================] - 0s 135us/step - loss: 7.9134 - acc: 0.5090\n",
      "Epoch 10/20\n",
      "664/664 [==============================] - 0s 151us/step - loss: 7.9134 - acc: 0.5090\n",
      "Epoch 11/20\n",
      "664/664 [==============================] - 0s 132us/step - loss: 7.9134 - acc: 0.5090\n",
      "Epoch 12/20\n",
      "664/664 [==============================] - 0s 130us/step - loss: 7.9134 - acc: 0.5090\n",
      "Epoch 13/20\n",
      "664/664 [==============================] - 0s 141us/step - loss: 7.9134 - acc: 0.5090\n",
      "Epoch 14/20\n",
      "664/664 [==============================] - 0s 107us/step - loss: 7.9134 - acc: 0.5090\n",
      "Epoch 15/20\n",
      "664/664 [==============================] - 0s 144us/step - loss: 7.9134 - acc: 0.5090\n",
      "Epoch 16/20\n",
      "664/664 [==============================] - 0s 126us/step - loss: 7.9134 - acc: 0.5090\n",
      "Epoch 17/20\n",
      "664/664 [==============================] - 0s 106us/step - loss: 7.9134 - acc: 0.5090\n",
      "Epoch 18/20\n",
      "664/664 [==============================] - 0s 117us/step - loss: 7.9134 - acc: 0.5090\n",
      "Epoch 19/20\n",
      "664/664 [==============================] - 0s 112us/step - loss: 7.9134 - acc: 0.5090\n",
      "Epoch 20/20\n",
      "664/664 [==============================] - 0s 102us/step - loss: 7.9134 - acc: 0.5090\n"
     ]
    }
   ],
   "source": [
    "# Create list of learning rates: lr_to_test\n",
    "lr_to_test = [0.000001,0.01,1]\n",
    "\n",
    "# Loop over learning rates\n",
    "for lr in lr_to_test:\n",
    "    print('\\n\\nTest learning rate: %f\\n'%lr )\n",
    "    \n",
    "    # Build new model to test, unaffected by previous models\n",
    "    model = get_new_model()\n",
    "    \n",
    "    # Create SGD optimizer with specified learning rate: my_optimizer\n",
    "    my_optimizer = optimizers.Adam(lr = lr)\n",
    "    \n",
    "    # Compile the model\n",
    "    model.compile(optimizer = my_optimizer, loss = 'binary_crossentropy', metrics=['accuracy'])\n",
    "    \n",
    "    # Fit the model\n",
    "    model.fit(Predictor_train, Target_train, batch_size=30, epochs=20)\n"
   ]
  },
  {
   "cell_type": "markdown",
   "metadata": {},
   "source": [
    "Hey, that was a fun little exercise to see how the different learning rates work. It looks like the best learning rate so far is 0.01 given our nodes and layers involved. Knowing this, we will move forward with this learning rate and then implement the early stop function."
   ]
  },
  {
   "cell_type": "markdown",
   "metadata": {},
   "source": [
    "#### Early Stopping\n",
    "\n",
    "If the neural net stops learning for 3 epochs, we stop the forward/back propogation process."
   ]
  },
  {
   "cell_type": "code",
   "execution_count": 37,
   "metadata": {},
   "outputs": [
    {
     "name": "stdout",
     "output_type": "stream",
     "text": [
      "Train on 531 samples, validate on 133 samples\n",
      "Epoch 1/30\n",
      "531/531 [==============================] - 0s 720us/step - loss: 1.4986 - acc: 0.4727 - val_loss: 0.8356 - val_acc: 0.5338\n",
      "Epoch 2/30\n",
      "531/531 [==============================] - 0s 179us/step - loss: 0.7184 - acc: 0.5424 - val_loss: 0.7363 - val_acc: 0.4812\n",
      "Epoch 3/30\n",
      "531/531 [==============================] - 0s 181us/step - loss: 0.6710 - acc: 0.5687 - val_loss: 0.6647 - val_acc: 0.5338\n",
      "Epoch 4/30\n",
      "531/531 [==============================] - 0s 142us/step - loss: 0.6557 - acc: 0.6064 - val_loss: 0.6296 - val_acc: 0.6541\n",
      "Epoch 5/30\n",
      "531/531 [==============================] - 0s 175us/step - loss: 0.6047 - acc: 0.6798 - val_loss: 0.7121 - val_acc: 0.5263\n",
      "Epoch 6/30\n",
      "531/531 [==============================] - 0s 193us/step - loss: 0.5901 - acc: 0.6911 - val_loss: 0.5733 - val_acc: 0.6617\n",
      "Epoch 7/30\n",
      "531/531 [==============================] - 0s 180us/step - loss: 0.5239 - acc: 0.7646 - val_loss: 0.5417 - val_acc: 0.7218\n",
      "Epoch 8/30\n",
      "531/531 [==============================] - 0s 166us/step - loss: 0.4946 - acc: 0.7778 - val_loss: 0.5284 - val_acc: 0.7143\n",
      "Epoch 9/30\n",
      "531/531 [==============================] - 0s 156us/step - loss: 0.5166 - acc: 0.7589 - val_loss: 0.5099 - val_acc: 0.7895\n",
      "Epoch 10/30\n",
      "531/531 [==============================] - 0s 225us/step - loss: 0.4877 - acc: 0.7797 - val_loss: 0.5227 - val_acc: 0.7368\n",
      "Epoch 11/30\n",
      "531/531 [==============================] - 0s 234us/step - loss: 0.5015 - acc: 0.7815 - val_loss: 0.5580 - val_acc: 0.7594\n",
      "Epoch 12/30\n",
      "531/531 [==============================] - 0s 220us/step - loss: 0.5227 - acc: 0.7759 - val_loss: 0.5130 - val_acc: 0.7594\n"
     ]
    },
    {
     "data": {
      "text/plain": [
       "<keras.callbacks.History at 0x1a1aa1cda0>"
      ]
     },
     "execution_count": 37,
     "metadata": {},
     "output_type": "execute_result"
    }
   ],
   "source": [
    "# initial build\n",
    "model = Sequential()\n",
    "model.add(Dense(25,input_shape=(n_cols,),activation='relu'))\n",
    "model.add(Dense(50, activation = 'relu'))\n",
    "model.add(Dense(50, activation = 'relu'))\n",
    "model.add(Dense(1, activation = 'sigmoid'))\n",
    "\n",
    "# instantiate your adam optimizer and change the learning rate to 0.01 and compile\n",
    "adam = optimizers.Adam(lr=0.01)\n",
    "model.compile(optimizer = adam, loss ='binary_crossentropy', metrics=['accuracy'])\n",
    "\n",
    "# Define early_stopping_monitor\n",
    "early_stopping_monitor = EarlyStopping(patience = 3)\n",
    "\n",
    "# Fit the model\n",
    "model.fit(Predictor_train, Target_train, batch_size=30, epochs = 30, validation_split = 0.2, callbacks = [early_stopping_monitor])\n"
   ]
  },
  {
   "cell_type": "markdown",
   "metadata": {},
   "source": [
    "Interesting, the early stopping ends at epoch 16 because the loss was increasing, however the accuracy was improving over the last 3. \n",
    "\n",
    "To understand what is going on more here, lets get a visual on the relationship between the epoch and learning rate. "
   ]
  },
  {
   "cell_type": "code",
   "execution_count": 38,
   "metadata": {},
   "outputs": [],
   "source": [
    "# Create UDF's\n",
    "def mymodel(n=[25,50,50]):\n",
    "    model = Sequential()\n",
    "    model.add(Dense(n[0],input_shape=(4,)))\n",
    "    model.add(Activation('relu'))\n",
    "    model.add(Dense(n[1]))\n",
    "    model.add(Activation('relu'))\n",
    "    model.add(Dense(n[2]))\n",
    "    model.add(Activation('relu'))\n",
    "    model.add(Dense(1))\n",
    "    model.add(Activation('sigmoid'))\n",
    "    return model\n",
    "\n",
    "def mytrain(model, lr=0.01, batch=32, epochs=20):\n",
    "    adam = optimizers.Adam(lr=lr) \n",
    "    model.compile(optimizer=adam, loss ='binary_crossentropy', metrics=['accuracy'])\n",
    "    result = model.fit(Predictor_train, Target_train, batch_size=batch, epochs=epochs,verbose=0)\n",
    "    return result.history"
   ]
  },
  {
   "cell_type": "code",
   "execution_count": 39,
   "metadata": {},
   "outputs": [
    {
     "name": "stdout",
     "output_type": "stream",
     "text": [
      "10 0.1 0 0.509\n",
      "10 0.01 6 0.782\n",
      "10 0.001 8 0.786\n",
      "10 0.0001 6 0.779\n",
      "10 1e-05 5 0.491\n",
      "25 0.1 1 0.491\n",
      "25 0.01 20 0.792\n",
      "25 0.001 22 0.788\n",
      "25 0.0001 15 0.780\n",
      "25 1e-05 24 0.556\n",
      "50 0.1 6 0.509\n",
      "50 0.01 40 0.794\n",
      "50 0.001 31 0.795\n",
      "50 0.0001 39 0.774\n",
      "50 1e-05 28 0.660\n",
      "100 0.1 0 0.503\n",
      "100 0.01 78 0.806\n",
      "100 0.001 88 0.797\n",
      "100 0.0001 91 0.785\n",
      "100 1e-05 99 0.705\n",
      "200 0.1 3 0.491\n",
      "200 0.01 195 0.803\n",
      "200 0.001 181 0.800\n",
      "200 0.0001 198 0.797\n",
      "200 1e-05 194 0.679\n"
     ]
    }
   ],
   "source": [
    "# To visualize this, lets put it all in a nested for loop\n",
    "for ep in [10,25,50,100,200]:\n",
    "    for lr in [0.1,0.01,0.001,0.0001,0.00001]:\n",
    "        model = mymodel()\n",
    "        res = mytrain(model,lr,32,ep)\n",
    "        print(ep,lr,np.argmax(res['acc']),'{:.3f}'.format(max(res['acc'])))"
   ]
  },
  {
   "cell_type": "markdown",
   "metadata": {},
   "source": [
    "We are really seeing ceiling on the accuracy of this dataset given many of the parameters we have available for us to tune. The best thus far is 200 epochs with a learning rate of 0.01, this is a pretty aggressive neural net design, implying that the highger learning rate and epoch number helps reduce error the most."
   ]
  },
  {
   "cell_type": "code",
   "execution_count": 40,
   "metadata": {},
   "outputs": [
    {
     "data": {
      "image/png": "[encoded data removed]",
      "text/plain": [
       "<Figure size 432x288 with 1 Axes>"
      ]
     },
     "metadata": {},
     "output_type": "display_data"
    },
    {
     "data": {
      "image/png": "[encoded data removed]",
      "text/plain": [
       "<Figure size 432x288 with 1 Axes>"
      ]
     },
     "metadata": {},
     "output_type": "display_data"
    },
    {
     "data": {
      "image/png": "[encoded data removed]",
      "text/plain": [
       "<Figure size 432x288 with 1 Axes>"
      ]
     },
     "metadata": {},
     "output_type": "display_data"
    },
    {
     "data": {
      "image/png": "[encoded data removed]",
      "text/plain": [
       "<Figure size 432x288 with 1 Axes>"
      ]
     },
     "metadata": {},
     "output_type": "display_data"
    },
    {
     "data": {
      "image/png": "[encoded data removed]",
      "text/plain": [
       "<Figure size 432x288 with 1 Axes>"
      ]
     },
     "metadata": {},
     "output_type": "display_data"
    }
   ],
   "source": [
    "# Lets plot what we just did above\n",
    "%matplotlib inline\n",
    "\n",
    "for ep in [10,25,50,100,200]:\n",
    "    for lr in [0.1,0.01,0.001,0.0001,0.0001]:\n",
    "        model = mymodel()\n",
    "        res = mytrain(model,lr,32,ep)\n",
    "        plt.ylim(0,1)\n",
    "        plt.xlim(0,ep)\n",
    "        plt.plot(res['acc'],label='lr='+str(lr)+' ep='+str(ep))\n",
    "        plt.legend()\n",
    "    plt.show()  "
   ]
  },
  {
   "cell_type": "markdown",
   "metadata": {},
   "source": [
    "Wow, this is interesting. Its showing that I can't really get any better than that 80% accuracy, the learning rate and epochs are simply the pace in which I get there. For learning rates of 0.1 and 0.01 we arrive at around 80% accuracy in 8 to 10 epochs, while learning rates of 0.0001 and 0.001 take about 30 epochs to arrrive at that same 80% accuracy mark.\n",
    "\n",
    "The ceiling of 80% matters more than anything, so lets manipulate the number of neurons in our 3 predefined layers that need to be used in this analysis, to see if we can increase accuracy."
   ]
  },
  {
   "cell_type": "code",
   "execution_count": 41,
   "metadata": {},
   "outputs": [
    {
     "name": "stdout",
     "output_type": "stream",
     "text": [
      "[4, 4, 4] 7.319 65 0 0.521\n",
      "[8, 8, 8] 7.368 193 37 0.800\n",
      "[16, 16, 16] 7.476 641 38 0.797\n",
      "[32, 16, 16] 7.935 977 2 0.512\n",
      "[20, 40, 60] 7.572 3461 28 0.795\n",
      "[100, 100, 100] 7.593 20801 48 0.804\n",
      "[150, 150, 150] 7.797 46201 49 0.795\n"
     ]
    }
   ],
   "source": [
    "configs = [[4,4,4],[8,8,8],[16,16,16],[32,16,16],[20,40,60],[100,100,100],[150,150,150]]\n",
    "for conf in configs:\n",
    "    model = mymodel(conf)\n",
    "    t0=time.time()\n",
    "    res = mytrain(model,lr=0.01,batch=32,epochs=50)\n",
    "    t1=time.time() #I'm timing to check training time vs model size\n",
    "    print(conf, '{:.3f}'.format(t1-t0), model.count_params(),np.argmax(res['acc']),'{:.3f}'.format(max(res['acc'])))"
   ]
  },
  {
   "cell_type": "markdown",
   "metadata": {},
   "source": [
    "Dang, we are still seeing the accuracy limit of around 80%, lets see if experimenting with the number of layers could be helpful. We will move forward with 100 neurons in each layer"
   ]
  },
  {
   "cell_type": "code",
   "execution_count": 45,
   "metadata": {},
   "outputs": [
    {
     "name": "stdout",
     "output_type": "stream",
     "text": [
      "1 7.945 601 47 0.797\n",
      "3 8.574 20801 10 0.509\n",
      "5 9.842 41001 33 0.798\n",
      "7 10.698 61201 22 0.800\n",
      "9 11.608 81401 19 0.779\n",
      "11 12.357 101601 1 0.556\n"
     ]
    }
   ],
   "source": [
    "def model_nlayer(n): #fixed num_neuron to 32\n",
    "    model = Sequential()\n",
    "    model.add(Dense(100,input_shape=(n_cols,)))\n",
    "    for i in range(n-1):\n",
    "        model.add(Dense(100,activation='relu'))\n",
    "    model.add(Dense(1,activation='sigmoid'))\n",
    "    return model\n",
    "\n",
    "for nlayer in [1,3,5,7,9,11]:\n",
    "    model = model_nlayer(nlayer)\n",
    "    t0=time.time()\n",
    "    res = mytrain(model,lr=0.01,batch=32,epochs=50)\n",
    "    t1=time.time() #I'm timing to check training time vs model size\n",
    "    print(nlayer, '{:.3f}'.format(t1-t0), model.count_params(),np.argmax(res['acc']),'{:.3f}'.format(max(res['acc'])))"
   ]
  },
  {
   "cell_type": "markdown",
   "metadata": {},
   "source": [
    "Still not quite seeing the improvement in accuracy we would like"
   ]
  },
  {
   "cell_type": "code",
   "execution_count": 47,
   "metadata": {},
   "outputs": [],
   "source": [
    "import tensorflow as tf # an alternative accuracy calculation (what Keras actually uses)\n",
    "\n",
    "def acc(yp, yt):\n",
    "    assert yp.shape==yt.shape, 'shape of yp and yt do not match'\n",
    "    return np.mean(yp == yt)\n",
    "\n",
    "def acc_tf(yp, yt):\n",
    "    assert yt.shape == yp.shape, \"yp and yt shape do not match\"\n",
    "    sess = tf.InteractiveSession()\n",
    "    acc = K.mean(K.equal(tf.convert_to_tensor(yt), tf.cast(K.round(tf.convert_to_tensor(yp)),dtype=tf.int64))).eval()\n",
    "    return acc"
   ]
  },
  {
   "cell_type": "code",
   "execution_count": 76,
   "metadata": {},
   "outputs": [
    {
     "data": {
      "text/plain": [
       "0.53614457831325302"
      ]
     },
     "execution_count": 76,
     "metadata": {},
     "output_type": "execute_result"
    }
   ],
   "source": [
    "\n",
    "Target_pred = model.predict(Predictor_test)\n",
    "Target_pred = Target_pred[:,0].round()\n",
    "Target_class = Target_test\n",
    "acc(Target_class, Target_pred)\n"
   ]
  },
  {
   "cell_type": "markdown",
   "metadata": {},
   "source": [
    "Our accuracy on the test group is worse than the training group\n",
    "\n",
    "Using the loop provided, we will now compare accuracy on the test dataset given various epoch sizes. Outputting accuracy, residuals and metrics."
   ]
  },
  {
   "cell_type": "code",
   "execution_count": 81,
   "metadata": {},
   "outputs": [
    {
     "name": "stdout",
     "output_type": "stream",
     "text": [
      "25 0.789156627224 0.765060240246\n",
      "50 0.792168674699 0.75903614386\n",
      "150 0.792168675417 0.765060240246\n"
     ]
    }
   ],
   "source": [
    "for ep in [25,50,150]:\n",
    "    model = mymodel()\n",
    "    adam = optimizers.Adam() \n",
    "    model.compile(optimizer=adam, loss ='binary_crossentropy', metrics=['accuracy'])\n",
    "    res = model.fit(Predictor_train, Target_train, batch_size=32, epochs=25,verbose=0) #model.fit returns an object\n",
    "    best_train_acc = max(res.history['acc']) #, which you can retrieve metrics if you chose a metric\n",
    "    metric = model.evaluate(Predictor_test, Target_test, batch_size=32, verbose=0) \n",
    "    print(ep, best_train_acc, metric[1])\n",
    "    "
   ]
  },
  {
   "cell_type": "markdown",
   "metadata": {},
   "source": [
    "This shows that we actually aren't doing too bad. We can predict with 76.5% accuracy on the test dataset\n",
    "\n",
    "Lets look at validation loss and validation metrics to see how well things are working for us. Given everything we have learned so far, lets build a model that has all the features that perormed the best for us"
   ]
  },
  {
   "cell_type": "code",
   "execution_count": 88,
   "metadata": {},
   "outputs": [],
   "source": [
    "def modelfinal():\n",
    "    model = Sequential()\n",
    "    model.add(Dense(25,input_shape=(n_cols,),activation='relu')) #1\n",
    "    model.add(Dense(50, activation = 'relu')) #2\n",
    "    model.add(Dense(100, activation = 'relu')) #3\n",
    "    model.add(Dense(100, activation = 'relu')) #4\n",
    "    model.add(Dense(100, activation = 'relu')) #5\n",
    "    model.add(Dense(50, activation = 'relu')) # 6\n",
    "    model.add(Dense(1, activation = 'sigmoid')) # 7\n",
    "    adam = optimizers.Adam(lr=0.01)\n",
    "    model.compile(optimizer=adam, loss ='binary_crossentropy', metrics=['accuracy'])    \n",
    "    return model"
   ]
  },
  {
   "cell_type": "code",
   "execution_count": 89,
   "metadata": {},
   "outputs": [
    {
     "name": "stdout",
     "output_type": "stream",
     "text": [
      "Train on 464 samples, validate on 200 samples\n",
      "Epoch 1/150\n",
      "464/464 [==============================] - 5s 10ms/step - loss: 0.7879 - acc: 0.5000 - val_loss: 0.6779 - val_acc: 0.5450\n",
      "Epoch 2/150\n",
      "464/464 [==============================] - 0s 370us/step - loss: 0.6708 - acc: 0.5970 - val_loss: 0.6256 - val_acc: 0.7150\n",
      "Epoch 3/150\n",
      "464/464 [==============================] - 0s 346us/step - loss: 0.5694 - acc: 0.7586 - val_loss: 0.6086 - val_acc: 0.7150\n",
      "Epoch 4/150\n",
      "464/464 [==============================] - 0s 384us/step - loss: 0.5133 - acc: 0.7823 - val_loss: 0.5883 - val_acc: 0.7400\n",
      "Epoch 5/150\n",
      "464/464 [==============================] - 0s 427us/step - loss: 0.5180 - acc: 0.7802 - val_loss: 0.5494 - val_acc: 0.7300\n",
      "Epoch 6/150\n",
      "464/464 [==============================] - 0s 341us/step - loss: 0.5089 - acc: 0.7737 - val_loss: 0.5931 - val_acc: 0.7550\n",
      "Epoch 7/150\n",
      "464/464 [==============================] - 0s 361us/step - loss: 0.4967 - acc: 0.7737 - val_loss: 0.5188 - val_acc: 0.7600\n",
      "Epoch 8/150\n",
      "464/464 [==============================] - 0s 329us/step - loss: 0.4775 - acc: 0.7866 - val_loss: 0.5230 - val_acc: 0.7450\n",
      "Epoch 9/150\n",
      "464/464 [==============================] - 0s 495us/step - loss: 0.5021 - acc: 0.7845 - val_loss: 0.5399 - val_acc: 0.7600\n",
      "Epoch 10/150\n",
      "464/464 [==============================] - 0s 401us/step - loss: 0.4817 - acc: 0.7953 - val_loss: 0.6150 - val_acc: 0.7700\n",
      "Epoch 11/150\n",
      "464/464 [==============================] - 0s 455us/step - loss: 0.4761 - acc: 0.7823 - val_loss: 0.5311 - val_acc: 0.7500\n",
      "Epoch 12/150\n",
      "464/464 [==============================] - 0s 435us/step - loss: 0.4995 - acc: 0.7823 - val_loss: 0.5478 - val_acc: 0.7650\n"
     ]
    }
   ],
   "source": [
    "model = modelfinal()\n",
    "early_stopping_monitor = EarlyStopping(patience = 5)\n",
    "res = model.fit(Predictor_train, Target_train, validation_split=0.3, epochs=150, batch_size=32, callbacks = [early_stopping_monitor])"
   ]
  },
  {
   "cell_type": "markdown",
   "metadata": {},
   "source": [
    "After 12 epochs we see that we our top accuracy is 76.5% given the final model parameters. Now, lets plot the residuals."
   ]
  },
  {
   "cell_type": "code",
   "execution_count": 90,
   "metadata": {},
   "outputs": [
    {
     "data": {
      "text/plain": [
       "[<matplotlib.lines.Line2D at 0x1a436e4048>]"
      ]
     },
     "execution_count": 90,
     "metadata": {},
     "output_type": "execute_result"
    },
    {
     "data": {
      "image/png": "[encoded data removed]",
      "text/plain": [
       "<Figure size 432x288 with 1 Axes>"
      ]
     },
     "metadata": {},
     "output_type": "display_data"
    }
   ],
   "source": [
    "plt.plot(res.history['acc'],'b')\n",
    "plt.plot(res.history['val_acc'],'g')"
   ]
  },
  {
   "cell_type": "markdown",
   "metadata": {},
   "source": [
    "The residuals highlight much of what we have seen from this problem. We figure just short of 80% fairly quickly, but then really top out after that, and early stopping kicks in at 12 epochs."
   ]
  },
  {
   "cell_type": "code",
   "execution_count": null,
   "metadata": {},
   "outputs": [],
   "source": [
    "Now lets do a final test of accuracy on the test datasets."
   ]
  },
  {
   "cell_type": "code",
   "execution_count": 99,
   "metadata": {},
   "outputs": [
    {
     "name": "stdout",
     "output_type": "stream",
     "text": [
      "Train on 116 samples, validate on 50 samples\n",
      "Epoch 1/150\n",
      "116/116 [==============================] - 5s 41ms/step - loss: 2.0519 - acc: 0.4052 - val_loss: 1.5288 - val_acc: 0.4800\n",
      "Epoch 2/150\n",
      "116/116 [==============================] - 0s 285us/step - loss: 0.9109 - acc: 0.5603 - val_loss: 0.6866 - val_acc: 0.5200\n",
      "Epoch 3/150\n",
      "116/116 [==============================] - 0s 369us/step - loss: 0.7754 - acc: 0.4397 - val_loss: 0.6739 - val_acc: 0.5200\n",
      "Epoch 4/150\n",
      "116/116 [==============================] - 0s 452us/step - loss: 0.7002 - acc: 0.4741 - val_loss: 0.7209 - val_acc: 0.4800\n",
      "Epoch 5/150\n",
      "116/116 [==============================] - 0s 441us/step - loss: 0.6882 - acc: 0.5603 - val_loss: 0.6830 - val_acc: 0.6600\n",
      "Epoch 6/150\n",
      "116/116 [==============================] - 0s 443us/step - loss: 0.6927 - acc: 0.5172 - val_loss: 0.6666 - val_acc: 0.5800\n",
      "Epoch 7/150\n",
      "116/116 [==============================] - 0s 458us/step - loss: 0.6745 - acc: 0.6466 - val_loss: 0.6920 - val_acc: 0.4800\n",
      "Epoch 8/150\n",
      "116/116 [==============================] - 0s 403us/step - loss: 0.6626 - acc: 0.5603 - val_loss: 0.6469 - val_acc: 0.8200\n",
      "Epoch 9/150\n",
      "116/116 [==============================] - 0s 375us/step - loss: 0.6231 - acc: 0.8103 - val_loss: 0.6595 - val_acc: 0.5000\n",
      "Epoch 10/150\n",
      "116/116 [==============================] - 0s 385us/step - loss: 0.5546 - acc: 0.7845 - val_loss: 0.5374 - val_acc: 0.7800\n",
      "Epoch 11/150\n",
      "116/116 [==============================] - 0s 352us/step - loss: 0.4850 - acc: 0.7931 - val_loss: 0.5973 - val_acc: 0.7600\n",
      "Epoch 12/150\n",
      "116/116 [==============================] - 0s 353us/step - loss: 0.6889 - acc: 0.6638 - val_loss: 0.7082 - val_acc: 0.5400\n",
      "Epoch 13/150\n",
      "116/116 [==============================] - 0s 382us/step - loss: 0.7415 - acc: 0.4741 - val_loss: 0.6504 - val_acc: 0.7000\n",
      "Epoch 14/150\n",
      "116/116 [==============================] - 0s 345us/step - loss: 0.6721 - acc: 0.5862 - val_loss: 0.6713 - val_acc: 0.4800\n",
      "Epoch 15/150\n",
      "116/116 [==============================] - 0s 334us/step - loss: 0.6379 - acc: 0.7241 - val_loss: 0.6000 - val_acc: 0.7400\n"
     ]
    }
   ],
   "source": [
    "model = modelfinal()\n",
    "early_stopping_monitor = EarlyStopping(patience = 5)\n",
    "res = model.fit(Predictor_test, Target_test, validation_split=0.3, epochs=150, batch_size=32, callbacks = [early_stopping_monitor])"
   ]
  },
  {
   "cell_type": "markdown",
   "metadata": {},
   "source": [
    "## Conclusion\n",
    "\n",
    "Using the test data we can see that with 8 epochs we get an accuracy of 82%, which is pretty good considering the struggle it was to improve our  model past that 80% accuracy threshold.\n",
    "\n",
    "At the end of the day, we were limited in our predictive power given that we only had 4 columns to use as predictors. So, though I would love for the accuracy to be improved, the fact that we could predict the severity of a mammographic mass only knowing 4 things with 82% accuracy is pretty solid. "
   ]
  },
  {
   "cell_type": "code",
   "execution_count": null,
   "metadata": {},
   "outputs": [],
   "source": []
  }
 ],
 "metadata": {
  "kernelspec": {
   "display_name": "Python 3",
   "language": "python",
   "name": "python3"
  },
  "language_info": {
   "codemirror_mode": {
    "name": "ipython",
    "version": 3
   },
   "file_extension": ".py",
   "mimetype": "text/x-python",
   "name": "python",
   "nbconvert_exporter": "python",
   "pygments_lexer": "ipython3",
   "version": "3.6.4"
  }
 },
 "nbformat": 4,
 "nbformat_minor": 2
}
